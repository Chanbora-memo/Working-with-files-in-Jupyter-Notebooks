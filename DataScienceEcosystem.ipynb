{
 "cells": [
  {
   "cell_type": "markdown",
   "id": "51ef8d2b-dc3c-48d4-95cb-66e1f4b704c4",
   "metadata": {},
   "source": [
    "# Data Science Tools and Ecosystem"
   ]
  },
  {
   "cell_type": "markdown",
   "id": "6e5e0bf3-bdfd-42ec-be8b-cd8544376bad",
   "metadata": {},
   "source": [
    "In this notebook, Data Science Tools and Ecosystem are summarized."
   ]
  },
  {
   "cell_type": "markdown",
   "id": "368fdd9a-dfaa-4743-bbff-ad3d9d4dc84a",
   "metadata": {},
   "source": [
    "**Objectives:**\n",
    "- List popular languages\n",
    "- List commonly used libraries\n",
    "- Arithmetic Expression"
   ]
  },
  {
   "cell_type": "markdown",
   "id": "3e3217e2-f06c-46b7-8d9b-943f988a169f",
   "metadata": {},
   "source": [
    "Some of the popular languages that Data Scientists use are:\n",
    "1. R\n",
    "2. Python\n",
    "3. Scala\n",
    "4. Julia"
   ]
  },
  {
   "cell_type": "markdown",
   "id": "342336bc-4d70-4108-9d29-bc9e131af8b1",
   "metadata": {},
   "source": [
    "Some of the commonly used libraries used by Data Scientists include\n",
    "1. ggplot2\n",
    "2. Pandas\n",
    "3. NumPy\n",
    "4. Vegas"
   ]
  },
  {
   "cell_type": "markdown",
   "id": "865b8759-1298-49e4-81e0-2cfee0261e47",
   "metadata": {},
   "source": [
    "Table of Data Science Tools\n",
    "\n",
    "| Data Science Tools |\n",
    "|--------------------|\n",
    "| Jupyter Notebook   |\n",
    "| Apache Spark       |\n",
    "| Matplotlib         |"
   ]
  },
  {
   "cell_type": "markdown",
   "id": "79bc0d61-5b7c-4652-98e4-6530408f5841",
   "metadata": {},
   "source": [
    "### Below are a few examples of evaluating arithmetic expressions in Python"
   ]
  },
  {
   "cell_type": "code",
   "execution_count": 2,
   "id": "698e3444-e192-479c-b071-e854e5502f43",
   "metadata": {},
   "outputs": [
    {
     "data": {
      "text/plain": [
       "17"
      ]
     },
     "execution_count": 2,
     "metadata": {},
     "output_type": "execute_result"
    }
   ],
   "source": [
    "# This a simple arithmetic expression to multiply then add integers\n",
    "(3*4)+5"
   ]
  },
  {
   "cell_type": "code",
   "execution_count": 3,
   "id": "287e029a-d0d5-4a1d-a553-808459047071",
   "metadata": {},
   "outputs": [
    {
     "data": {
      "text/plain": [
       "3.3333333333333335"
      ]
     },
     "execution_count": 3,
     "metadata": {},
     "output_type": "execute_result"
    }
   ],
   "source": [
    "# This wil convert 200 minutes to hours by dividing by 60\n",
    "200 / 60"
   ]
  },
  {
   "cell_type": "markdown",
   "id": "087e0ed3-a1ee-4ae0-ab78-7be31f074ee5",
   "metadata": {},
   "source": [
    "## Author:\n",
    "Chanbora Seng"
   ]
  }
 ],
 "metadata": {
  "kernelspec": {
   "display_name": "Python 3 (ipykernel)",
   "language": "python",
   "name": "python3"
  },
  "language_info": {
   "codemirror_mode": {
    "name": "ipython",
    "version": 3
   },
   "file_extension": ".py",
   "mimetype": "text/x-python",
   "name": "python",
   "nbconvert_exporter": "python",
   "pygments_lexer": "ipython3",
   "version": "3.9.16"
  }
 },
 "nbformat": 4,
 "nbformat_minor": 5
}
